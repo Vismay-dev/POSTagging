{
 "cells": [
  {
   "cell_type": "markdown",
   "id": "586901c8",
   "metadata": {
    "id": "LFfrcSznqS6m",
    "papermill": {
     "duration": 0.006975,
     "end_time": "2023-06-16T09:30:00.209740",
     "exception": false,
     "start_time": "2023-06-16T09:30:00.202765",
     "status": "completed"
    },
    "tags": []
   },
   "source": [
    "### Parts of Speech Tagging using Tf LSTM"
   ]
  },
  {
   "cell_type": "code",
   "execution_count": 1,
   "id": "6e5c1fad",
   "metadata": {
    "execution": {
     "iopub.execute_input": "2023-06-16T09:30:00.225287Z",
     "iopub.status.busy": "2023-06-16T09:30:00.224715Z",
     "iopub.status.idle": "2023-06-16T09:30:02.482455Z",
     "shell.execute_reply": "2023-06-16T09:30:02.481389Z"
    },
    "id": "sj9QCysBpFdP",
    "papermill": {
     "duration": 2.268399,
     "end_time": "2023-06-16T09:30:02.484984",
     "exception": false,
     "start_time": "2023-06-16T09:30:00.216585",
     "status": "completed"
    },
    "tags": []
   },
   "outputs": [],
   "source": [
    "import nltk\n",
    "from nltk.corpus import brown"
   ]
  },
  {
   "cell_type": "code",
   "execution_count": 2,
   "id": "049e2078",
   "metadata": {
    "execution": {
     "iopub.execute_input": "2023-06-16T09:30:02.499336Z",
     "iopub.status.busy": "2023-06-16T09:30:02.498980Z",
     "iopub.status.idle": "2023-06-16T09:30:02.599451Z",
     "shell.execute_reply": "2023-06-16T09:30:02.598045Z"
    },
    "id": "PEeYFFR8qhmt",
    "outputId": "e21b0c95-df64-400d-ed4a-0076cac10d7c",
    "papermill": {
     "duration": 0.110325,
     "end_time": "2023-06-16T09:30:02.601899",
     "exception": false,
     "start_time": "2023-06-16T09:30:02.491574",
     "status": "completed"
    },
    "tags": []
   },
   "outputs": [
    {
     "name": "stdout",
     "output_type": "stream",
     "text": [
      "[nltk_data] Downloading package brown to /usr/share/nltk_data...\n",
      "[nltk_data]   Package brown is already up-to-date!\n",
      "[nltk_data] Downloading package universal_tagset to\n",
      "[nltk_data]     /usr/share/nltk_data...\n",
      "[nltk_data]   Package universal_tagset is already up-to-date!\n"
     ]
    },
    {
     "data": {
      "text/plain": [
       "True"
      ]
     },
     "execution_count": 2,
     "metadata": {},
     "output_type": "execute_result"
    }
   ],
   "source": [
    "nltk.download('brown')\n",
    "nltk.download('universal_tagset')"
   ]
  },
  {
   "cell_type": "code",
   "execution_count": 3,
   "id": "592f3cc7",
   "metadata": {
    "execution": {
     "iopub.execute_input": "2023-06-16T09:30:02.619139Z",
     "iopub.status.busy": "2023-06-16T09:30:02.618559Z",
     "iopub.status.idle": "2023-06-16T09:30:02.640040Z",
     "shell.execute_reply": "2023-06-16T09:30:02.638990Z"
    },
    "id": "naGl5RZiqjX7",
    "outputId": "98831149-199e-4f12-9696-4d78ca9d8a31",
    "papermill": {
     "duration": 0.032136,
     "end_time": "2023-06-16T09:30:02.642387",
     "exception": false,
     "start_time": "2023-06-16T09:30:02.610251",
     "status": "completed"
    },
    "tags": []
   },
   "outputs": [
    {
     "data": {
      "text/plain": [
       "[[('The', 'DET'), ('Fulton', 'NOUN'), ('County', 'NOUN'), ('Grand', 'ADJ'), ('Jury', 'NOUN'), ('said', 'VERB'), ('Friday', 'NOUN'), ('an', 'DET'), ('investigation', 'NOUN'), ('of', 'ADP'), (\"Atlanta's\", 'NOUN'), ('recent', 'ADJ'), ('primary', 'NOUN'), ('election', 'NOUN'), ('produced', 'VERB'), ('``', '.'), ('no', 'DET'), ('evidence', 'NOUN'), (\"''\", '.'), ('that', 'ADP'), ('any', 'DET'), ('irregularities', 'NOUN'), ('took', 'VERB'), ('place', 'NOUN'), ('.', '.')], [('The', 'DET'), ('jury', 'NOUN'), ('further', 'ADV'), ('said', 'VERB'), ('in', 'ADP'), ('term-end', 'NOUN'), ('presentments', 'NOUN'), ('that', 'ADP'), ('the', 'DET'), ('City', 'NOUN'), ('Executive', 'ADJ'), ('Committee', 'NOUN'), (',', '.'), ('which', 'DET'), ('had', 'VERB'), ('over-all', 'ADJ'), ('charge', 'NOUN'), ('of', 'ADP'), ('the', 'DET'), ('election', 'NOUN'), (',', '.'), ('``', '.'), ('deserves', 'VERB'), ('the', 'DET'), ('praise', 'NOUN'), ('and', 'CONJ'), ('thanks', 'NOUN'), ('of', 'ADP'), ('the', 'DET'), ('City', 'NOUN'), ('of', 'ADP'), ('Atlanta', 'NOUN'), (\"''\", '.'), ('for', 'ADP'), ('the', 'DET'), ('manner', 'NOUN'), ('in', 'ADP'), ('which', 'DET'), ('the', 'DET'), ('election', 'NOUN'), ('was', 'VERB'), ('conducted', 'VERB'), ('.', '.')], ...]"
      ]
     },
     "execution_count": 3,
     "metadata": {},
     "output_type": "execute_result"
    }
   ],
   "source": [
    "corpus = brown.tagged_sents(tagset='universal')\n",
    "corpus"
   ]
  },
  {
   "cell_type": "code",
   "execution_count": 4,
   "id": "b0d459c8",
   "metadata": {
    "execution": {
     "iopub.execute_input": "2023-06-16T09:30:02.657853Z",
     "iopub.status.busy": "2023-06-16T09:30:02.656972Z",
     "iopub.status.idle": "2023-06-16T09:30:06.205603Z",
     "shell.execute_reply": "2023-06-16T09:30:06.204539Z"
    },
    "id": "mz2hXDISqquu",
    "outputId": "f4516502-27be-478c-e5ce-f0075b2a6af2",
    "papermill": {
     "duration": 3.559387,
     "end_time": "2023-06-16T09:30:06.208642",
     "exception": false,
     "start_time": "2023-06-16T09:30:02.649255",
     "status": "completed"
    },
    "tags": []
   },
   "outputs": [
    {
     "data": {
      "text/plain": [
       "57340"
      ]
     },
     "execution_count": 4,
     "metadata": {},
     "output_type": "execute_result"
    }
   ],
   "source": [
    "len(corpus)"
   ]
  },
  {
   "cell_type": "code",
   "execution_count": 5,
   "id": "93df4bbc",
   "metadata": {
    "execution": {
     "iopub.execute_input": "2023-06-16T09:30:06.224679Z",
     "iopub.status.busy": "2023-06-16T09:30:06.224314Z",
     "iopub.status.idle": "2023-06-16T09:30:09.820305Z",
     "shell.execute_reply": "2023-06-16T09:30:09.818967Z"
    },
    "id": "BjsrfAmCq1yt",
    "papermill": {
     "duration": 3.607555,
     "end_time": "2023-06-16T09:30:09.823234",
     "exception": false,
     "start_time": "2023-06-16T09:30:06.215679",
     "status": "completed"
    },
    "tags": []
   },
   "outputs": [],
   "source": [
    "inputs = []\n",
    "outputs = []\n",
    "\n",
    "for sentence in corpus:\n",
    "  inputSent = []\n",
    "  sentTags = []\n",
    "\n",
    "  for token in sentence:\n",
    "    inputSent.append(token[0])\n",
    "    sentTags.append(token[1])\n",
    "\n",
    "  inputs.append(inputSent)\n",
    "  outputs.append(sentTags)"
   ]
  },
  {
   "cell_type": "code",
   "execution_count": 6,
   "id": "a6840c37",
   "metadata": {
    "execution": {
     "iopub.execute_input": "2023-06-16T09:30:09.839212Z",
     "iopub.status.busy": "2023-06-16T09:30:09.838793Z",
     "iopub.status.idle": "2023-06-16T09:30:19.643866Z",
     "shell.execute_reply": "2023-06-16T09:30:19.642178Z"
    },
    "id": "xgdyo_0jsKJ_",
    "papermill": {
     "duration": 9.816367,
     "end_time": "2023-06-16T09:30:19.646792",
     "exception": false,
     "start_time": "2023-06-16T09:30:09.830425",
     "status": "completed"
    },
    "tags": []
   },
   "outputs": [
    {
     "name": "stderr",
     "output_type": "stream",
     "text": [
      "/opt/conda/lib/python3.10/site-packages/tensorflow_io/python/ops/__init__.py:98: UserWarning: unable to load libtensorflow_io_plugins.so: unable to open file: libtensorflow_io_plugins.so, from paths: ['/opt/conda/lib/python3.10/site-packages/tensorflow_io/python/ops/libtensorflow_io_plugins.so']\n",
      "caused by: ['/opt/conda/lib/python3.10/site-packages/tensorflow_io/python/ops/libtensorflow_io_plugins.so: undefined symbol: _ZN3tsl6StatusC1EN10tensorflow5error4CodeESt17basic_string_viewIcSt11char_traitsIcEENS_14SourceLocationE']\n",
      "  warnings.warn(f\"unable to load libtensorflow_io_plugins.so: {e}\")\n",
      "/opt/conda/lib/python3.10/site-packages/tensorflow_io/python/ops/__init__.py:104: UserWarning: file system plugins are not loaded: unable to open file: libtensorflow_io.so, from paths: ['/opt/conda/lib/python3.10/site-packages/tensorflow_io/python/ops/libtensorflow_io.so']\n",
      "caused by: ['/opt/conda/lib/python3.10/site-packages/tensorflow_io/python/ops/libtensorflow_io.so: undefined symbol: _ZTVN10tensorflow13GcsFileSystemE']\n",
      "  warnings.warn(f\"file system plugins are not loaded: {e}\")\n"
     ]
    }
   ],
   "source": [
    "import numpy as np\n",
    "import pandas as pd\n",
    "import tensorflow as tf\n",
    "import matplotlib.pyplot as plt\n",
    "from sklearn.model_selection import train_test_split\n",
    "\n",
    "from tensorflow.keras.preprocessing.text import Tokenizer, one_hot\n",
    "from tensorflow.keras.preprocessing.sequence import pad_sequences\n",
    "from tensorflow.keras.layers import Dense, Input, Bidirectional\n",
    "from tensorflow.keras.layers import LSTM, GRU, SimpleRNN, Embedding\n",
    "from tensorflow.keras.models import Model\n",
    "from tensorflow.keras.losses import SparseCategoricalCrossentropy"
   ]
  },
  {
   "cell_type": "code",
   "execution_count": 7,
   "id": "e3469e6c",
   "metadata": {
    "execution": {
     "iopub.execute_input": "2023-06-16T09:30:19.663263Z",
     "iopub.status.busy": "2023-06-16T09:30:19.662428Z",
     "iopub.status.idle": "2023-06-16T09:30:19.709817Z",
     "shell.execute_reply": "2023-06-16T09:30:19.708890Z"
    },
    "id": "cE2pLk1dsSew",
    "papermill": {
     "duration": 0.058246,
     "end_time": "2023-06-16T09:30:19.712289",
     "exception": false,
     "start_time": "2023-06-16T09:30:19.654043",
     "status": "completed"
    },
    "tags": []
   },
   "outputs": [],
   "source": [
    "x_train, x_test, y_train, y_test = train_test_split(\n",
    "    inputs,\n",
    "    outputs,\n",
    "    test_size=0.3,\n",
    ")"
   ]
  },
  {
   "cell_type": "code",
   "execution_count": 8,
   "id": "270c6d00",
   "metadata": {
    "execution": {
     "iopub.execute_input": "2023-06-16T09:30:19.728285Z",
     "iopub.status.busy": "2023-06-16T09:30:19.727909Z",
     "iopub.status.idle": "2023-06-16T09:30:21.356170Z",
     "shell.execute_reply": "2023-06-16T09:30:21.355103Z"
    },
    "id": "lsMY35PLsiGn",
    "papermill": {
     "duration": 1.638901,
     "end_time": "2023-06-16T09:30:21.358433",
     "exception": false,
     "start_time": "2023-06-16T09:30:19.719532",
     "status": "completed"
    },
    "tags": []
   },
   "outputs": [],
   "source": [
    "MAX_VOCAB_SIZE = None\n",
    "\n",
    "should_lowercase = False\n",
    "word_tokenizer = Tokenizer(\n",
    "    num_words=MAX_VOCAB_SIZE,\n",
    "    lower=should_lowercase,\n",
    "    oov_token='UNK',\n",
    ")\n",
    "# otherwise unknown tokens will be removed and len(input) != len(target)\n",
    "# & input words and target words will not be aligned\n",
    "\n",
    "word_tokenizer.fit_on_texts(x_train)\n",
    "x_train_int = word_tokenizer.texts_to_sequences(x_train)\n",
    "x_test_int = word_tokenizer.texts_to_sequences(x_test)"
   ]
  },
  {
   "cell_type": "code",
   "execution_count": 9,
   "id": "0bbd68b5",
   "metadata": {
    "execution": {
     "iopub.execute_input": "2023-06-16T09:30:21.374741Z",
     "iopub.status.busy": "2023-06-16T09:30:21.373943Z",
     "iopub.status.idle": "2023-06-16T09:30:21.402090Z",
     "shell.execute_reply": "2023-06-16T09:30:21.401205Z"
    },
    "id": "GCVcDGi3tUvV",
    "outputId": "6ec2af37-83dc-4bab-f7cb-71bc838f1c23",
    "papermill": {
     "duration": 0.038672,
     "end_time": "2023-06-16T09:30:21.404179",
     "exception": false,
     "start_time": "2023-06-16T09:30:21.365507",
     "status": "completed"
    },
    "tags": []
   },
   "outputs": [
    {
     "name": "stdout",
     "output_type": "stream",
     "text": [
      "Found 47549 unique words\n"
     ]
    },
    {
     "data": {
      "text/plain": [
       "{'UNK': 1,\n",
       " 'the': 2,\n",
       " ',': 3,\n",
       " '.': 4,\n",
       " 'of': 5,\n",
       " 'and': 6,\n",
       " 'to': 7,\n",
       " 'a': 8,\n",
       " 'in': 9,\n",
       " 'that': 10,\n",
       " 'is': 11,\n",
       " 'was': 12,\n",
       " '``': 13,\n",
       " \"''\": 14,\n",
       " 'for': 15,\n",
       " 'The': 16,\n",
       " 'with': 17,\n",
       " 'as': 18,\n",
       " 'it': 19,\n",
       " 'he': 20,\n",
       " 'his': 21,\n",
       " 'on': 22,\n",
       " 'be': 23,\n",
       " ';': 24,\n",
       " 'by': 25,\n",
       " 'I': 26,\n",
       " 'had': 27,\n",
       " 'at': 28,\n",
       " '?': 29,\n",
       " 'not': 30,\n",
       " 'are': 31,\n",
       " 'from': 32,\n",
       " 'or': 33,\n",
       " 'this': 34,\n",
       " 'have': 35,\n",
       " 'an': 36,\n",
       " 'which': 37,\n",
       " '--': 38,\n",
       " 'were': 39,\n",
       " 'but': 40,\n",
       " 'He': 41,\n",
       " 'one': 42,\n",
       " 'her': 43,\n",
       " 'they': 44,\n",
       " 'you': 45,\n",
       " 'all': 46,\n",
       " 'would': 47,\n",
       " 'him': 48,\n",
       " 'been': 49,\n",
       " ')': 50,\n",
       " 'their': 51,\n",
       " '(': 52,\n",
       " 'has': 53,\n",
       " 'will': 54,\n",
       " 'who': 55,\n",
       " 'more': 56,\n",
       " 'out': 57,\n",
       " 'she': 58,\n",
       " 'we': 59,\n",
       " 'It': 60,\n",
       " 'said': 61,\n",
       " 'up': 62,\n",
       " 'there': 63,\n",
       " ':': 64,\n",
       " 'no': 65,\n",
       " 'In': 66,\n",
       " 'about': 67,\n",
       " 'than': 68,\n",
       " 'them': 69,\n",
       " 'its': 70,\n",
       " 'into': 71,\n",
       " 'so': 72,\n",
       " 'when': 73,\n",
       " 'can': 74,\n",
       " 'could': 75,\n",
       " 'only': 76,\n",
       " 'other': 77,\n",
       " '!': 78,\n",
       " 'time': 79,\n",
       " 'what': 80,\n",
       " 'if': 81,\n",
       " 'some': 82,\n",
       " 'But': 83,\n",
       " 'any': 84,\n",
       " 'may': 85,\n",
       " 'A': 86,\n",
       " 'two': 87,\n",
       " 'first': 88,\n",
       " 'do': 89,\n",
       " 'these': 90,\n",
       " 'me': 91,\n",
       " 'like': 92,\n",
       " 'over': 93,\n",
       " 'such': 94,\n",
       " 'This': 95,\n",
       " 'man': 96,\n",
       " 'my': 97,\n",
       " 'made': 98,\n",
       " 'our': 99,\n",
       " 'new': 100,\n",
       " 'now': 101,\n",
       " 'most': 102,\n",
       " 'Af': 103,\n",
       " 'must': 104,\n",
       " 'did': 105,\n",
       " 'then': 106,\n",
       " 'also': 107,\n",
       " 'even': 108,\n",
       " 'back': 109,\n",
       " 'before': 110,\n",
       " 'And': 111,\n",
       " 'through': 112,\n",
       " 'years': 113,\n",
       " 'She': 114,\n",
       " 'much': 115,\n",
       " 'many': 116,\n",
       " 'down': 117,\n",
       " 'your': 118,\n",
       " 'where': 119,\n",
       " 'There': 120,\n",
       " 'way': 121,\n",
       " 'should': 122,\n",
       " 'after': 123,\n",
       " 'They': 124,\n",
       " 'Mr.': 125,\n",
       " 'because': 126,\n",
       " 'people': 127,\n",
       " 'too': 128,\n",
       " 'own': 129,\n",
       " 'little': 130,\n",
       " 'just': 131,\n",
       " 'each': 132,\n",
       " 'work': 133,\n",
       " 'make': 134,\n",
       " 'very': 135,\n",
       " 'well': 136,\n",
       " 'those': 137,\n",
       " 'good': 138,\n",
       " 'If': 139,\n",
       " 'men': 140,\n",
       " 'still': 141,\n",
       " 'see': 142,\n",
       " 'get': 143,\n",
       " 'world': 144,\n",
       " 'being': 145,\n",
       " 'long': 146,\n",
       " 'between': 147,\n",
       " 'might': 148,\n",
       " 'same': 149,\n",
       " 'life': 150,\n",
       " 'know': 151,\n",
       " 'under': 152,\n",
       " 'us': 153,\n",
       " 'never': 154,\n",
       " 'last': 155,\n",
       " 'We': 156,\n",
       " 'both': 157,\n",
       " 'year': 158,\n",
       " 'came': 159,\n",
       " 'day': 160,\n",
       " 'For': 161,\n",
       " 'here': 162,\n",
       " 'right': 163,\n",
       " 'great': 164,\n",
       " 'off': 165,\n",
       " 'against': 166,\n",
       " 'used': 167,\n",
       " 'go': 168,\n",
       " 'himself': 169,\n",
       " 'how': 170,\n",
       " 'When': 171,\n",
       " 'come': 172,\n",
       " 'few': 173,\n",
       " 'take': 174,\n",
       " 'American': 175,\n",
       " 'around': 176,\n",
       " 'while': 177,\n",
       " 'New': 178,\n",
       " 'old': 179,\n",
       " 'another': 180,\n",
       " 'use': 181,\n",
       " 'His': 182,\n",
       " 'found': 183,\n",
       " 'As': 184,\n",
       " 'thought': 185,\n",
       " 'small': 186,\n",
       " 'without': 187,\n",
       " 'home': 188,\n",
       " 'Mrs.': 189,\n",
       " 'again': 190,\n",
       " 'You': 191,\n",
       " 'went': 192,\n",
       " 'place': 193,\n",
       " 'three': 194,\n",
       " 'state': 195,\n",
       " '1': 196,\n",
       " 'What': 197,\n",
       " 'say': 198,\n",
       " 'part': 199,\n",
       " 'upon': 200,\n",
       " 'number': 201,\n",
       " 'left': 202,\n",
       " 'course': 203,\n",
       " 'got': 204,\n",
       " 'away': 205,\n",
       " 'high': 206,\n",
       " 'since': 207,\n",
       " 'United': 208,\n",
       " 'during': 209,\n",
       " 'every': 210,\n",
       " 'States': 211,\n",
       " 'always': 212,\n",
       " 'less': 213,\n",
       " 'To': 214,\n",
       " 'once': 215,\n",
       " 'took': 216,\n",
       " 'fact': 217,\n",
       " 'put': 218,\n",
       " 'does': 219,\n",
       " 'something': 220,\n",
       " 'hand': 221,\n",
       " 'head': 222,\n",
       " 'At': 223,\n",
       " 'One': 224,\n",
       " 'told': 225,\n",
       " \"didn't\": 226,\n",
       " 'until': 227,\n",
       " 'water': 228,\n",
       " '2': 229,\n",
       " 'enough': 230,\n",
       " 'called': 231,\n",
       " 'far': 232,\n",
       " 'house': 233,\n",
       " 'public': 234,\n",
       " 'almost': 235,\n",
       " 'better': 236,\n",
       " 'think': 237,\n",
       " 'going': 238,\n",
       " 'set': 239,\n",
       " \"don't\": 240,\n",
       " 'night': 241,\n",
       " 'school': 242,\n",
       " 'room': 243,\n",
       " 'system': 244,\n",
       " 'eyes': 245,\n",
       " 'find': 246,\n",
       " 'possible': 247,\n",
       " 'days': 248,\n",
       " 'however': 249,\n",
       " 'knew': 250,\n",
       " 'per': 251,\n",
       " 'point': 252,\n",
       " 'end': 253,\n",
       " 'give': 254,\n",
       " 'face': 255,\n",
       " 'looked': 256,\n",
       " 'order': 257,\n",
       " 'side': 258,\n",
       " 'asked': 259,\n",
       " 'need': 260,\n",
       " 'No': 261,\n",
       " 'toward': 262,\n",
       " 'though': 263,\n",
       " 'group': 264,\n",
       " 'become': 265,\n",
       " 'nothing': 266,\n",
       " 'social': 267,\n",
       " 'felt': 268,\n",
       " 'rather': 269,\n",
       " 'program': 270,\n",
       " 'look': 271,\n",
       " 'John': 272,\n",
       " 'That': 273,\n",
       " 'often': 274,\n",
       " 'large': 275,\n",
       " 'case': 276,\n",
       " 'business': 277,\n",
       " 'These': 278,\n",
       " 'given': 279,\n",
       " 'things': 280,\n",
       " 'next': 281,\n",
       " 'On': 282,\n",
       " 'young': 283,\n",
       " 'least': 284,\n",
       " 'seemed': 285,\n",
       " 'Then': 286,\n",
       " 'along': 287,\n",
       " 'present': 288,\n",
       " 'important': 289,\n",
       " 'thing': 290,\n",
       " 'early': 291,\n",
       " 'second': 292,\n",
       " 'form': 293,\n",
       " \"'\": 294,\n",
       " 'ever': 295,\n",
       " 'began': 296,\n",
       " 'best': 297,\n",
       " 'mind': 298,\n",
       " 'saw': 299,\n",
       " 'later': 300,\n",
       " 'problem': 301,\n",
       " 'several': 302,\n",
       " 'Of': 303,\n",
       " 'light': 304,\n",
       " 'power': 305,\n",
       " 'among': 306,\n",
       " 'area': 307,\n",
       " 'sense': 308,\n",
       " 'interest': 309,\n",
       " 'want': 310,\n",
       " 'turned': 311,\n",
       " 'big': 312,\n",
       " 'general': 313,\n",
       " 'itself': 314,\n",
       " 'development': 315,\n",
       " 'family': 316,\n",
       " 'within': 317,\n",
       " 'different': 318,\n",
       " 'children': 319,\n",
       " 'matter': 320,\n",
       " 'members': 321,\n",
       " 'four': 322,\n",
       " 'kind': 323,\n",
       " 'war': 324,\n",
       " 'door': 325,\n",
       " 'God': 326,\n",
       " 'done': 327,\n",
       " 'action': 328,\n",
       " 'York': 329,\n",
       " 'name': 330,\n",
       " 'whole': 331,\n",
       " 'help': 332,\n",
       " 'let': 333,\n",
       " '3': 334,\n",
       " 'human': 335,\n",
       " 'means': 336,\n",
       " 'example': 337,\n",
       " 'country': 338,\n",
       " 'open': 339,\n",
       " 'hands': 340,\n",
       " 'others': 341,\n",
       " 'local': 342,\n",
       " 'experience': 343,\n",
       " 'certain': 344,\n",
       " 'quite': 345,\n",
       " 'taken': 346,\n",
       " 'either': 347,\n",
       " 'gave': 348,\n",
       " \"I'm\": 349,\n",
       " 'held': 350,\n",
       " 'above': 351,\n",
       " 'yet': 352,\n",
       " 'body': 353,\n",
       " 'President': 354,\n",
       " 'law': 355,\n",
       " 'seen': 356,\n",
       " 'word': 357,\n",
       " 'money': 358,\n",
       " 'shall': 359,\n",
       " 'All': 360,\n",
       " 'anything': 361,\n",
       " 'government': 362,\n",
       " 'feet': 363,\n",
       " 'With': 364,\n",
       " 'line': 365,\n",
       " 'past': 366,\n",
       " 'Now': 367,\n",
       " 'history': 368,\n",
       " 'seems': 369,\n",
       " 'words': 370,\n",
       " 'themselves': 371,\n",
       " 'across': 372,\n",
       " 'really': 373,\n",
       " 'show': 374,\n",
       " 'death': 375,\n",
       " 'making': 376,\n",
       " 'car': 377,\n",
       " 'week': 378,\n",
       " 'whether': 379,\n",
       " 'having': 380,\n",
       " 'together': 381,\n",
       " 'half': 382,\n",
       " 'information': 383,\n",
       " 'times': 384,\n",
       " 'brought': 385,\n",
       " 'whose': 386,\n",
       " 'white': 387,\n",
       " 'job': 388,\n",
       " 'already': 389,\n",
       " 'areas': 390,\n",
       " 'political': 391,\n",
       " 'city': 392,\n",
       " 'cannot': 393,\n",
       " 'behind': 394,\n",
       " 'State': 395,\n",
       " 'field': 396,\n",
       " 'After': 397,\n",
       " 'ago': 398,\n",
       " 'period': 399,\n",
       " 'problems': 400,\n",
       " 'tell': 401,\n",
       " 'service': 402,\n",
       " 'moment': 403,\n",
       " 'known': 404,\n",
       " 'reason': 405,\n",
       " 'Miss': 406,\n",
       " 'heard': 407,\n",
       " 'wanted': 408,\n",
       " 'keep': 409,\n",
       " 'result': 410,\n",
       " 'position': 411,\n",
       " 'real': 412,\n",
       " 'individual': 413,\n",
       " 'question': 414,\n",
       " 'free': 415,\n",
       " 'true': 416,\n",
       " 'why': 417,\n",
       " 'became': 418,\n",
       " 'turn': 419,\n",
       " 'seem': 420,\n",
       " 'boy': 421,\n",
       " 'community': 422,\n",
       " 'study': 423,\n",
       " 'sure': 424,\n",
       " 'voice': 425,\n",
       " 'clear': 426,\n",
       " 'church': 427,\n",
       " 'five': 428,\n",
       " 'probably': 429,\n",
       " 'So': 430,\n",
       " 'How': 431,\n",
       " 'close': 432,\n",
       " 'level': 433,\n",
       " 'policy': 434,\n",
       " 'perhaps': 435,\n",
       " 'provide': 436,\n",
       " 'economic': 437,\n",
       " 'love': 438,\n",
       " 'age': 439,\n",
       " 'child': 440,\n",
       " 'today': 441,\n",
       " 'change': 442,\n",
       " 'major': 443,\n",
       " 'Some': 444,\n",
       " 'run': 445,\n",
       " 'woman': 446,\n",
       " 'necessary': 447,\n",
       " 'effect': 448,\n",
       " 'wife': 449,\n",
       " 'special': 450,\n",
       " 'rate': 451,\n",
       " 'am': 452,\n",
       " 'available': 453,\n",
       " 'stood': 454,\n",
       " 'morning': 455,\n",
       " 'company': 456,\n",
       " 'air': 457,\n",
       " 'started': 458,\n",
       " 'front': 459,\n",
       " 'office': 460,\n",
       " '4': 461,\n",
       " 'national': 462,\n",
       " 'full': 463,\n",
       " 'total': 464,\n",
       " 'girl': 465,\n",
       " 'idea': 466,\n",
       " 'although': 467,\n",
       " 'value': 468,\n",
       " 'control': 469,\n",
       " 'cost': 470,\n",
       " 'feel': 471,\n",
       " 'million': 472,\n",
       " 'music': 473,\n",
       " 'future': 474,\n",
       " 'short': 475,\n",
       " 'believe': 476,\n",
       " 'top': 477,\n",
       " 'outside': 478,\n",
       " 'increase': 479,\n",
       " 'leave': 480,\n",
       " 'wrote': 481,\n",
       " 'expected': 482,\n",
       " 'longer': 483,\n",
       " 'type': 484,\n",
       " 'Dr.': 485,\n",
       " 'students': 486,\n",
       " 'surface': 487,\n",
       " 'land': 488,\n",
       " 'art': 489,\n",
       " 'able': 490,\n",
       " 'pressure': 491,\n",
       " 'center': 492,\n",
       " 'military': 493,\n",
       " 'An': 494,\n",
       " 'Washington': 495,\n",
       " 'force': 496,\n",
       " 'society': 497,\n",
       " 'sound': 498,\n",
       " 'plan': 499,\n",
       " 'Even': 500,\n",
       " 'English': 501,\n",
       " 'minutes': 502,\n",
       " 'century': 503,\n",
       " 'following': 504,\n",
       " 'By': 505,\n",
       " 'play': 506,\n",
       " 'months': 507,\n",
       " 'near': 508,\n",
       " 'mother': 509,\n",
       " 'process': 510,\n",
       " 'common': 511,\n",
       " 'mean': 512,\n",
       " 'alone': 513,\n",
       " 'women': 514,\n",
       " 'six': 515,\n",
       " 'town': 516,\n",
       " 'ground': 517,\n",
       " 'usually': 518,\n",
       " 'hard': 519,\n",
       " 'West': 520,\n",
       " 'gone': 521,\n",
       " 'General': 522,\n",
       " 'tax': 523,\n",
       " 'Since': 524,\n",
       " 'values': 525,\n",
       " '1960': 526,\n",
       " 'party': 527,\n",
       " 'call': 528,\n",
       " 'kept': 529,\n",
       " 'South': 530,\n",
       " 'says': 531,\n",
       " 'modern': 532,\n",
       " 'basis': 533,\n",
       " 'book': 534,\n",
       " 'required': 535,\n",
       " 'situation': 536,\n",
       " 'needed': 537,\n",
       " 'stage': 538,\n",
       " 'evidence': 539,\n",
       " 'complete': 540,\n",
       " 'greater': 541,\n",
       " 'Thus': 542,\n",
       " 'personal': 543,\n",
       " 'read': 544,\n",
       " 'view': 545,\n",
       " 'return': 546,\n",
       " 'late': 547,\n",
       " 'education': 548,\n",
       " 'America': 549,\n",
       " 'recent': 550,\n",
       " 'House': 551,\n",
       " 'amount': 552,\n",
       " 'particular': 553,\n",
       " 'nor': 554,\n",
       " 'further': 555,\n",
       " 'attention': 556,\n",
       " 'looking': 557,\n",
       " 'fire': 558,\n",
       " 'various': 559,\n",
       " 'strong': 560,\n",
       " 'single': 561,\n",
       " 'road': 562,\n",
       " 'costs': 563,\n",
       " \"couldn't\": 564,\n",
       " 'lost': 565,\n",
       " 'including': 566,\n",
       " 'support': 567,\n",
       " 'care': 568,\n",
       " 'hours': 569,\n",
       " 'basic': 570,\n",
       " 'reached': 571,\n",
       " 'nature': 572,\n",
       " 'However': 573,\n",
       " 'miles': 574,\n",
       " 'except': 575,\n",
       " 'lines': 576,\n",
       " 'hope': 577,\n",
       " 'beyond': 578,\n",
       " 'live': 579,\n",
       " 'else': 580,\n",
       " 'private': 581,\n",
       " 'St.': 582,\n",
       " 'schools': 583,\n",
       " 'religious': 584,\n",
       " 'U.S.': 585,\n",
       " 'living': 586,\n",
       " 'National': 587,\n",
       " 'sort': 588,\n",
       " 'taking': 589,\n",
       " 'moved': 590,\n",
       " 'From': 591,\n",
       " 'William': 592,\n",
       " 'dark': 593,\n",
       " 'hold': 594,\n",
       " 'beginning': 595,\n",
       " 'college': 596,\n",
       " 'material': 597,\n",
       " 'shown': 598,\n",
       " 'space': 599,\n",
       " 'followed': 600,\n",
       " 'board': 601,\n",
       " 'developed': 602,\n",
       " 'coming': 603,\n",
       " 'Secretary': 604,\n",
       " 'conditions': 605,\n",
       " 'feeling': 606,\n",
       " '&': 607,\n",
       " 'makes': 608,\n",
       " 'cent': 609,\n",
       " 'Why': 610,\n",
       " 'rest': 611,\n",
       " 'dead': 612,\n",
       " 'higher': 613,\n",
       " 'picture': 614,\n",
       " 'natural': 615,\n",
       " 'low': 616,\n",
       " 'cold': 617,\n",
       " '10': 618,\n",
       " \"I'll\": 619,\n",
       " \"It's\": 620,\n",
       " 'therefore': 621,\n",
       " 'black': 622,\n",
       " 'states': 623,\n",
       " 'passed': 624,\n",
       " 'Not': 625,\n",
       " 'Department': 626,\n",
       " 'considered': 627,\n",
       " 'figure': 628,\n",
       " 'pay': 629,\n",
       " 'written': 630,\n",
       " 'growth': 631,\n",
       " 'data': 632,\n",
       " 'entire': 633,\n",
       " 'hear': 634,\n",
       " 'cut': 635,\n",
       " 'similar': 636,\n",
       " 'industry': 637,\n",
       " 'friends': 638,\n",
       " 'class': 639,\n",
       " 'heart': 640,\n",
       " 'inside': 641,\n",
       " 'range': 642,\n",
       " \"can't\": 643,\n",
       " 'spirit': 644,\n",
       " 'forces': 645,\n",
       " 'especially': 646,\n",
       " 'bring': 647,\n",
       " 'difference': 648,\n",
       " 'Her': 649,\n",
       " 'sat': 650,\n",
       " 'meeting': 651,\n",
       " 'move': 652,\n",
       " 'soon': 653,\n",
       " 'story': 654,\n",
       " 'father': 655,\n",
       " 'stand': 656,\n",
       " 'simply': 657,\n",
       " 'walked': 658,\n",
       " 'earlier': 659,\n",
       " 'issue': 660,\n",
       " 'report': 661,\n",
       " 'My': 662,\n",
       " 'final': 663,\n",
       " 'table': 664,\n",
       " 'simple': 665,\n",
       " 'England': 666,\n",
       " 'equipment': 667,\n",
       " 'Well': 668,\n",
       " \"it's\": 669,\n",
       " 'everything': 670,\n",
       " 'doing': 671,\n",
       " 'act': 672,\n",
       " 'likely': 673,\n",
       " 'production': 674,\n",
       " 'talk': 675,\n",
       " 'start': 676,\n",
       " 'hundred': 677,\n",
       " 'tried': 678,\n",
       " 'sometimes': 679,\n",
       " 'answer': 680,\n",
       " 'fall': 681,\n",
       " 'working': 682,\n",
       " 'son': 683,\n",
       " 'moral': 684,\n",
       " 'reading': 685,\n",
       " 'City': 686,\n",
       " 'added': 687,\n",
       " 'ready': 688,\n",
       " 'record': 689,\n",
       " 'floor': 690,\n",
       " 'person': 691,\n",
       " 'Federal': 692,\n",
       " '5': 693,\n",
       " 'particularly': 694,\n",
       " 'meet': 695,\n",
       " 'countries': 696,\n",
       " 'due': 697,\n",
       " 'hair': 698,\n",
       " 'fine': 699,\n",
       " 'purpose': 700,\n",
       " 'terms': 701,\n",
       " 'building': 702,\n",
       " 'subject': 703,\n",
       " 'directly': 704,\n",
       " 'War': 705,\n",
       " 'third': 706,\n",
       " 'knowledge': 707,\n",
       " 'girls': 708,\n",
       " 'paid': 709,\n",
       " 'needs': 710,\n",
       " 'getting': 711,\n",
       " 'ten': 712,\n",
       " 'happened': 713,\n",
       " 'stock': 714,\n",
       " \"wasn't\": 715,\n",
       " 'training': 716,\n",
       " 'trying': 717,\n",
       " 'street': 718,\n",
       " 'concerned': 719,\n",
       " 'addition': 720,\n",
       " 'Government': 721,\n",
       " 'French': 722,\n",
       " 'sent': 723,\n",
       " 'difficult': 724,\n",
       " 'paper': 725,\n",
       " 'property': 726,\n",
       " 'North': 727,\n",
       " 'chance': 728,\n",
       " 'received': 729,\n",
       " 'Kennedy': 730,\n",
       " 'met': 731,\n",
       " 'Congress': 732,\n",
       " 'finally': 733,\n",
       " 'questions': 734,\n",
       " 'merely': 735,\n",
       " 'methods': 736,\n",
       " 'market': 737,\n",
       " 'bad': 738,\n",
       " 'carried': 739,\n",
       " 'wall': 740,\n",
       " 'letter': 741,\n",
       " 'cases': 742,\n",
       " 'East': 743,\n",
       " 'direction': 744,\n",
       " 'thinking': 745,\n",
       " 'programs': 746,\n",
       " 'George': 747,\n",
       " 'herself': 748,\n",
       " 'literature': 749,\n",
       " 'weeks': 750,\n",
       " 'ran': 751,\n",
       " 'increased': 752,\n",
       " 'worked': 753,\n",
       " 'Here': 754,\n",
       " 'color': 755,\n",
       " 'Island': 756,\n",
       " 'size': 757,\n",
       " 'thus': 758,\n",
       " 'involved': 759,\n",
       " 'effort': 760,\n",
       " 'nearly': 761,\n",
       " 'using': 762,\n",
       " 'treatment': 763,\n",
       " 'points': 764,\n",
       " 'method': 765,\n",
       " 'ideas': 766,\n",
       " 'former': 767,\n",
       " 'results': 768,\n",
       " 'member': 769,\n",
       " 'police': 770,\n",
       " 'led': 771,\n",
       " 'statement': 772,\n",
       " 'showed': 773,\n",
       " 'Christian': 774,\n",
       " 'bed': 775,\n",
       " 'lay': 776,\n",
       " 'stopped': 777,\n",
       " 'deal': 778,\n",
       " 'manner': 779,\n",
       " 'section': 780,\n",
       " 'sales': 781,\n",
       " 'continued': 782,\n",
       " 'understand': 783,\n",
       " 'numbers': 784,\n",
       " 'provided': 785,\n",
       " 'appeared': 786,\n",
       " 'easy': 787,\n",
       " 'research': 788,\n",
       " 'opened': 789,\n",
       " 'decided': 790,\n",
       " 'instead': 791,\n",
       " 'volume': 792,\n",
       " 'summer': 793,\n",
       " 'below': 794,\n",
       " 'husband': 795,\n",
       " 'boys': 796,\n",
       " '1961': 797,\n",
       " 'hour': 798,\n",
       " 'physical': 799,\n",
       " 'foreign': 800,\n",
       " 'anyone': 801,\n",
       " 'Soviet': 802,\n",
       " 'groups': 803,\n",
       " 'meaning': 804,\n",
       " 'throughout': 805,\n",
       " 'works': 806,\n",
       " 'influence': 807,\n",
       " 'performance': 808,\n",
       " 'average': 809,\n",
       " 'forms': 810,\n",
       " 'actually': 811,\n",
       " 'aid': 812,\n",
       " 'president': 813,\n",
       " 'whom': 814,\n",
       " 'food': 815,\n",
       " '15': 816,\n",
       " 'friend': 817,\n",
       " 'effective': 818,\n",
       " 'Yet': 819,\n",
       " 'steps': 820,\n",
       " 'approach': 821,\n",
       " 'population': 822,\n",
       " 'hot': 823,\n",
       " 'Although': 824,\n",
       " 'wrong': 825,\n",
       " 'beautiful': 826,\n",
       " 'theory': 827,\n",
       " 'trouble': 828,\n",
       " 'comes': 829,\n",
       " 'cause': 830,\n",
       " 'temperature': 831,\n",
       " 'strength': 832,\n",
       " 'step': 833,\n",
       " 'distance': 834,\n",
       " 'lead': 835,\n",
       " 'systems': 836,\n",
       " 'normal': 837,\n",
       " 'Aj': 838,\n",
       " 'remember': 839,\n",
       " 'piece': 840,\n",
       " 'During': 841,\n",
       " \"wouldn't\": 842,\n",
       " 'Church': 843,\n",
       " 'Just': 844,\n",
       " 'writing': 845,\n",
       " 'according': 846,\n",
       " 'movement': 847,\n",
       " 'lot': 848,\n",
       " 'list': 849,\n",
       " 'opportunity': 850,\n",
       " 'game': 851,\n",
       " 'lower': 852,\n",
       " 'wide': 853,\n",
       " 'ways': 854,\n",
       " 'month': 855,\n",
       " 'myself': 856,\n",
       " 'S.': 857,\n",
       " 'changes': 858,\n",
       " 'series': 859,\n",
       " 'plant': 860,\n",
       " 'peace': 861,\n",
       " 'degree': 862,\n",
       " 'eye': 863,\n",
       " 'larger': 864,\n",
       " 'suddenly': 865,\n",
       " 'feed': 866,\n",
       " 'test': 867,\n",
       " 'generally': 868,\n",
       " 'hit': 869,\n",
       " 'straight': 870,\n",
       " 'try': 871,\n",
       " 'earth': 872,\n",
       " 'respect': 873,\n",
       " 'stay': 874,\n",
       " 'obtained': 875,\n",
       " 'shot': 876,\n",
       " 'immediately': 877,\n",
       " 'forward': 878,\n",
       " 'While': 879,\n",
       " 'truth': 880,\n",
       " 'apparently': 881,\n",
       " \"man's\": 882,\n",
       " 'Each': 883,\n",
       " 'nation': 884,\n",
       " 'lived': 885,\n",
       " 'University': 886,\n",
       " 'based': 887,\n",
       " 'defense': 888,\n",
       " 'ask': 889,\n",
       " 'certainly': 890,\n",
       " 'running': 891,\n",
       " 'function': 892,\n",
       " 'account': 893,\n",
       " 'evening': 894,\n",
       " 'corner': 895,\n",
       " 'placed': 896,\n",
       " 'character': 897,\n",
       " 'labor': 898,\n",
       " 'saying': 899,\n",
       " 'understanding': 900,\n",
       " 'blood': 901,\n",
       " 'square': 902,\n",
       " \"I've\": 903,\n",
       " 'British': 904,\n",
       " 'White': 905,\n",
       " 'First': 906,\n",
       " 'serve': 907,\n",
       " 'efforts': 908,\n",
       " 'stop': 909,\n",
       " 'fear': 910,\n",
       " 'described': 911,\n",
       " 'completely': 912,\n",
       " 'medical': 913,\n",
       " 'parts': 914,\n",
       " 'direct': 915,\n",
       " 'charge': 916,\n",
       " 'services': 917,\n",
       " 'lack': 918,\n",
       " 'fiscal': 919,\n",
       " 'international': 920,\n",
       " 'activities': 921,\n",
       " 'trial': 922,\n",
       " 'determined': 923,\n",
       " 'decision': 924,\n",
       " 'quality': 925,\n",
       " 'technical': 926,\n",
       " 'plane': 927,\n",
       " 'cars': 928,\n",
       " 'somewhat': 929,\n",
       " 'industrial': 930,\n",
       " 'reported': 931,\n",
       " 'trade': 932,\n",
       " 'principle': 933,\n",
       " 'organization': 934,\n",
       " 'court': 935,\n",
       " 'C': 936,\n",
       " 'clearly': 937,\n",
       " 'ones': 938,\n",
       " 'window': 939,\n",
       " 'length': 940,\n",
       " 'neither': 941,\n",
       " 'Europe': 942,\n",
       " 'knows': 943,\n",
       " 'J.': 944,\n",
       " 'student': 945,\n",
       " 'image': 946,\n",
       " 'choice': 947,\n",
       " 'original': 948,\n",
       " 'Brown': 949,\n",
       " 'specific': 950,\n",
       " 'indeed': 951,\n",
       " 'audience': 952,\n",
       " 'nations': 953,\n",
       " 'Act': 954,\n",
       " 'born': 955,\n",
       " 'couple': 956,\n",
       " 'Southern': 957,\n",
       " 'recently': 958,\n",
       " 'dropped': 959,\n",
       " 'language': 960,\n",
       " 'Rhode': 961,\n",
       " 'responsibility': 962,\n",
       " 'becomes': 963,\n",
       " 'farm': 964,\n",
       " 'science': 965,\n",
       " 'effects': 966,\n",
       " 'Union': 967,\n",
       " 'arms': 968,\n",
       " \"I'd\": 969,\n",
       " 'Do': 970,\n",
       " 'income': 971,\n",
       " 'A.': 972,\n",
       " 'Another': 973,\n",
       " 'facilities': 974,\n",
       " 'appear': 975,\n",
       " 'hardly': 976,\n",
       " 'blue': 977,\n",
       " 'faith': 978,\n",
       " 'suggested': 979,\n",
       " 'importance': 980,\n",
       " 'March': 981,\n",
       " 'existence': 982,\n",
       " 'ahead': 983,\n",
       " 'Our': 984,\n",
       " 'remained': 985,\n",
       " 'played': 986,\n",
       " 'season': 987,\n",
       " 'persons': 988,\n",
       " 'latter': 989,\n",
       " 'expect': 990,\n",
       " 'learned': 991,\n",
       " 'covered': 992,\n",
       " 'construction': 993,\n",
       " 'Chicago': 994,\n",
       " 'reach': 995,\n",
       " '6': 996,\n",
       " 'role': 997,\n",
       " 'progress': 998,\n",
       " 'Such': 999,\n",
       " 'Only': 1000,\n",
       " ...}"
      ]
     },
     "execution_count": 9,
     "metadata": {},
     "output_type": "execute_result"
    }
   ],
   "source": [
    "word2idx = word_tokenizer.word_index\n",
    "V = len(word2idx)\n",
    "print(f'Found {V} unique words')\n",
    "word2idx"
   ]
  },
  {
   "cell_type": "code",
   "execution_count": 10,
   "id": "e0bb763a",
   "metadata": {
    "execution": {
     "iopub.execute_input": "2023-06-16T09:30:21.421128Z",
     "iopub.status.busy": "2023-06-16T09:30:21.420606Z",
     "iopub.status.idle": "2023-06-16T09:30:21.497133Z",
     "shell.execute_reply": "2023-06-16T09:30:21.496048Z"
    },
    "id": "8HDDxWMXuHlG",
    "papermill": {
     "duration": 0.087737,
     "end_time": "2023-06-16T09:30:21.499445",
     "exception": false,
     "start_time": "2023-06-16T09:30:21.411708",
     "status": "completed"
    },
    "tags": []
   },
   "outputs": [],
   "source": [
    "def flatten(list_of_lists):\n",
    "  flattened = [val for sublist in list_of_lists for val in sublist]\n",
    "  return flattened\n",
    "\n",
    "all_targets_train = {x for l in y_train for x in l}\n",
    "all_targets_test = {x for l in y_test for x in l}"
   ]
  },
  {
   "cell_type": "code",
   "execution_count": 11,
   "id": "e6f86820",
   "metadata": {
    "execution": {
     "iopub.execute_input": "2023-06-16T09:30:21.517221Z",
     "iopub.status.busy": "2023-06-16T09:30:21.516628Z",
     "iopub.status.idle": "2023-06-16T09:30:21.522957Z",
     "shell.execute_reply": "2023-06-16T09:30:21.522040Z"
    },
    "id": "VfI5OXVGuuEA",
    "outputId": "d48b26f3-8fa1-4e76-c6eb-3a8757aa5d42",
    "papermill": {
     "duration": 0.017949,
     "end_time": "2023-06-16T09:30:21.525398",
     "exception": false,
     "start_time": "2023-06-16T09:30:21.507449",
     "status": "completed"
    },
    "tags": []
   },
   "outputs": [
    {
     "data": {
      "text/plain": [
       "{'.',\n",
       " 'ADJ',\n",
       " 'ADP',\n",
       " 'ADV',\n",
       " 'CONJ',\n",
       " 'DET',\n",
       " 'NOUN',\n",
       " 'NUM',\n",
       " 'PRON',\n",
       " 'PRT',\n",
       " 'VERB',\n",
       " 'X'}"
      ]
     },
     "execution_count": 11,
     "metadata": {},
     "output_type": "execute_result"
    }
   ],
   "source": [
    "all_targets_train"
   ]
  },
  {
   "cell_type": "code",
   "execution_count": 12,
   "id": "89303405",
   "metadata": {
    "execution": {
     "iopub.execute_input": "2023-06-16T09:30:21.542967Z",
     "iopub.status.busy": "2023-06-16T09:30:21.542644Z",
     "iopub.status.idle": "2023-06-16T09:30:21.548577Z",
     "shell.execute_reply": "2023-06-16T09:30:21.547768Z"
    },
    "id": "dO9lqfuDuvrr",
    "outputId": "f08b017e-d0b1-43b6-cbca-39f3160ffb3c",
    "papermill": {
     "duration": 0.016845,
     "end_time": "2023-06-16T09:30:21.550228",
     "exception": false,
     "start_time": "2023-06-16T09:30:21.533383",
     "status": "completed"
    },
    "tags": []
   },
   "outputs": [
    {
     "data": {
      "text/plain": [
       "{'.',\n",
       " 'ADJ',\n",
       " 'ADP',\n",
       " 'ADV',\n",
       " 'CONJ',\n",
       " 'DET',\n",
       " 'NOUN',\n",
       " 'NUM',\n",
       " 'PRON',\n",
       " 'PRT',\n",
       " 'VERB',\n",
       " 'X'}"
      ]
     },
     "execution_count": 12,
     "metadata": {},
     "output_type": "execute_result"
    }
   ],
   "source": [
    "all_targets_test"
   ]
  },
  {
   "cell_type": "code",
   "execution_count": 13,
   "id": "600711fa",
   "metadata": {
    "execution": {
     "iopub.execute_input": "2023-06-16T09:30:21.567686Z",
     "iopub.status.busy": "2023-06-16T09:30:21.567278Z",
     "iopub.status.idle": "2023-06-16T09:30:21.573405Z",
     "shell.execute_reply": "2023-06-16T09:30:21.572037Z"
    },
    "id": "TsO3uhGZu0yS",
    "outputId": "7fa9827a-8b6e-4f20-c710-62b7a2a97489",
    "papermill": {
     "duration": 0.017671,
     "end_time": "2023-06-16T09:30:21.575667",
     "exception": false,
     "start_time": "2023-06-16T09:30:21.557996",
     "status": "completed"
    },
    "tags": []
   },
   "outputs": [
    {
     "data": {
      "text/plain": [
       "True"
      ]
     },
     "execution_count": 13,
     "metadata": {},
     "output_type": "execute_result"
    }
   ],
   "source": [
    "all_targets_train == all_targets_test"
   ]
  },
  {
   "cell_type": "code",
   "execution_count": 14,
   "id": "e61dca21",
   "metadata": {
    "execution": {
     "iopub.execute_input": "2023-06-16T09:30:21.595050Z",
     "iopub.status.busy": "2023-06-16T09:30:21.594459Z",
     "iopub.status.idle": "2023-06-16T09:30:22.459527Z",
     "shell.execute_reply": "2023-06-16T09:30:22.458510Z"
    },
    "id": "WCpreANlu5oL",
    "papermill": {
     "duration": 0.877367,
     "end_time": "2023-06-16T09:30:22.462098",
     "exception": false,
     "start_time": "2023-06-16T09:30:21.584731",
     "status": "completed"
    },
    "tags": []
   },
   "outputs": [],
   "source": [
    "tag_tokenizer = Tokenizer()\n",
    "tag_tokenizer.fit_on_texts(y_train)\n",
    "y_train_int = tag_tokenizer.texts_to_sequences(y_train)\n",
    "y_test_int = tag_tokenizer.texts_to_sequences(y_test)\n",
    "\n",
    "y_train_int_unpadded = y_train_int\n",
    "y_test_int_unpadded = y_test_int"
   ]
  },
  {
   "cell_type": "code",
   "execution_count": 15,
   "id": "07f42bc2",
   "metadata": {
    "execution": {
     "iopub.execute_input": "2023-06-16T09:30:22.480678Z",
     "iopub.status.busy": "2023-06-16T09:30:22.480264Z",
     "iopub.status.idle": "2023-06-16T09:30:22.500097Z",
     "shell.execute_reply": "2023-06-16T09:30:22.499142Z"
    },
    "id": "h8nlW4aVz_TZ",
    "papermill": {
     "duration": 0.032189,
     "end_time": "2023-06-16T09:30:22.502641",
     "exception": false,
     "start_time": "2023-06-16T09:30:22.470452",
     "status": "completed"
    },
    "tags": []
   },
   "outputs": [],
   "source": [
    "maxlen_train = max(len(sent) for sent in x_train)\n",
    "maxlen_test = max(len(sent) for sent in x_test)\n",
    "\n",
    "T = max((maxlen_train, maxlen_test))"
   ]
  },
  {
   "cell_type": "code",
   "execution_count": 16,
   "id": "dc7a5e56",
   "metadata": {
    "execution": {
     "iopub.execute_input": "2023-06-16T09:30:22.520752Z",
     "iopub.status.busy": "2023-06-16T09:30:22.520349Z",
     "iopub.status.idle": "2023-06-16T09:30:22.886497Z",
     "shell.execute_reply": "2023-06-16T09:30:22.885158Z"
    },
    "id": "Pf6qfh1Y0DuK",
    "outputId": "f37183bb-3844-4d10-c8de-5da326bd80d6",
    "papermill": {
     "duration": 0.378016,
     "end_time": "2023-06-16T09:30:22.888992",
     "exception": false,
     "start_time": "2023-06-16T09:30:22.510976",
     "status": "completed"
    },
    "tags": []
   },
   "outputs": [
    {
     "name": "stdout",
     "output_type": "stream",
     "text": [
      "Shape of data train tensor: (40138, 180)\n",
      "Shape of data test tensor: (17202, 180)\n",
      "Shape of train output tensor: (40138, 180)\n",
      "Shape of test output tensor: (17202, 180)\n"
     ]
    }
   ],
   "source": [
    "x_train_int = pad_sequences(x_train_int, maxlen=T)\n",
    "print('Shape of data train tensor:', x_train_int.shape)\n",
    "\n",
    "x_test_int = pad_sequences(x_test_int, maxlen=T)\n",
    "print('Shape of data test tensor:', x_test_int.shape)\n",
    "\n",
    "y_train_int = pad_sequences(y_train_int, maxlen=T)\n",
    "print('Shape of train output tensor:', y_train_int.shape)\n",
    "\n",
    "y_test_int = pad_sequences(y_test_int, maxlen=T)\n",
    "print('Shape of test output tensor:', y_test_int.shape)"
   ]
  },
  {
   "cell_type": "code",
   "execution_count": 17,
   "id": "c8c2b24c",
   "metadata": {
    "execution": {
     "iopub.execute_input": "2023-06-16T09:30:22.908430Z",
     "iopub.status.busy": "2023-06-16T09:30:22.908028Z",
     "iopub.status.idle": "2023-06-16T09:30:22.914091Z",
     "shell.execute_reply": "2023-06-16T09:30:22.913130Z"
    },
    "id": "JpdIIzIx0LYc",
    "outputId": "5b3cdf0c-39e5-4b87-fb41-a68fc8a5d363",
    "papermill": {
     "duration": 0.017869,
     "end_time": "2023-06-16T09:30:22.915907",
     "exception": false,
     "start_time": "2023-06-16T09:30:22.898038",
     "status": "completed"
    },
    "tags": []
   },
   "outputs": [
    {
     "data": {
      "text/plain": [
       "13"
      ]
     },
     "execution_count": 17,
     "metadata": {},
     "output_type": "execute_result"
    }
   ],
   "source": [
    "K = len(all_targets_train) + 1\n",
    "K"
   ]
  },
  {
   "cell_type": "code",
   "execution_count": 18,
   "id": "b08d985f",
   "metadata": {
    "execution": {
     "iopub.execute_input": "2023-06-16T09:30:22.934633Z",
     "iopub.status.busy": "2023-06-16T09:30:22.934207Z",
     "iopub.status.idle": "2023-06-16T09:30:23.666174Z",
     "shell.execute_reply": "2023-06-16T09:30:23.665175Z"
    },
    "id": "sFPl7kukKyIb",
    "papermill": {
     "duration": 0.743767,
     "end_time": "2023-06-16T09:30:23.668043",
     "exception": false,
     "start_time": "2023-06-16T09:30:22.924276",
     "status": "completed"
    },
    "tags": []
   },
   "outputs": [
    {
     "name": "stdout",
     "output_type": "stream",
     "text": [
      "Model: \"model\"\n",
      "_________________________________________________________________\n",
      " Layer (type)                Output Shape              Param #   \n",
      "=================================================================\n",
      " input_1 (InputLayer)        [(None, 180)]             0         \n",
      "                                                                 \n",
      " embedding (Embedding)       (None, 180, 32)           1521600   \n",
      "                                                                 \n",
      " bidirectional (Bidirectiona  (None, 180, 64)          16640     \n",
      " l)                                                              \n",
      "                                                                 \n",
      " dense (Dense)               (None, 180, 13)           845       \n",
      "                                                                 \n",
      "=================================================================\n",
      "Total params: 1,539,085\n",
      "Trainable params: 1,539,085\n",
      "Non-trainable params: 0\n",
      "_________________________________________________________________\n"
     ]
    }
   ],
   "source": [
    "D = 32\n",
    "\n",
    "i = Input(shape=(T,))\n",
    "x = Embedding(V+1, D)(i)\n",
    "x = Bidirectional(LSTM(32, return_sequences=True))(x)\n",
    "x = Dense(K, activation = 'softmax')(x)\n",
    "\n",
    "model = Model(i,x)\n",
    "\n",
    "model.summary()"
   ]
  },
  {
   "cell_type": "code",
   "execution_count": 19,
   "id": "5cd4cd90",
   "metadata": {
    "execution": {
     "iopub.execute_input": "2023-06-16T09:30:23.688739Z",
     "iopub.status.busy": "2023-06-16T09:30:23.687797Z",
     "iopub.status.idle": "2023-06-16T09:40:49.199104Z",
     "shell.execute_reply": "2023-06-16T09:40:49.197689Z"
    },
    "id": "9h9NBTogLg-i",
    "outputId": "a20fae4f-105b-4e4d-ef5b-4acbed4ce3c9",
    "papermill": {
     "duration": 625.524584,
     "end_time": "2023-06-16T09:40:49.201858",
     "exception": false,
     "start_time": "2023-06-16T09:30:23.677274",
     "status": "completed"
    },
    "tags": []
   },
   "outputs": [
    {
     "name": "stdout",
     "output_type": "stream",
     "text": [
      "Epoch 1/5\n",
      "1255/1255 [==============================] - 122s 94ms/step - loss: 0.1841 - accuracy: 0.9519 - val_loss: 0.0278 - val_accuracy: 0.9926\n",
      "Epoch 2/5\n",
      "1255/1255 [==============================] - 116s 92ms/step - loss: 0.0161 - accuracy: 0.9956 - val_loss: 0.0129 - val_accuracy: 0.9961\n",
      "Epoch 3/5\n",
      "1255/1255 [==============================] - 116s 92ms/step - loss: 0.0082 - accuracy: 0.9975 - val_loss: 0.0107 - val_accuracy: 0.9966\n",
      "Epoch 4/5\n",
      "1255/1255 [==============================] - 115s 92ms/step - loss: 0.0058 - accuracy: 0.9982 - val_loss: 0.0100 - val_accuracy: 0.9968\n",
      "Epoch 5/5\n",
      "1255/1255 [==============================] - 117s 93ms/step - loss: 0.0044 - accuracy: 0.9986 - val_loss: 0.0099 - val_accuracy: 0.9970\n"
     ]
    }
   ],
   "source": [
    "model.compile(loss=tf.keras.losses.SparseCategoricalCrossentropy(),optimizer='adam',metrics=['accuracy'])\n",
    "r = model.fit(x_train_int, y_train_int, epochs = 5, validation_data= (x_test_int, y_test_int), verbose=True)"
   ]
  },
  {
   "cell_type": "code",
   "execution_count": 20,
   "id": "64778c37",
   "metadata": {
    "execution": {
     "iopub.execute_input": "2023-06-16T09:40:49.997847Z",
     "iopub.status.busy": "2023-06-16T09:40:49.997508Z",
     "iopub.status.idle": "2023-06-16T09:40:50.306686Z",
     "shell.execute_reply": "2023-06-16T09:40:50.305604Z"
    },
    "id": "2bQu3XZ4MqhX",
    "papermill": {
     "duration": 0.675925,
     "end_time": "2023-06-16T09:40:50.308927",
     "exception": false,
     "start_time": "2023-06-16T09:40:49.633002",
     "status": "completed"
    },
    "tags": []
   },
   "outputs": [
    {
     "data": {
      "text/plain": [
       "<matplotlib.legend.Legend at 0x791ae0144910>"
      ]
     },
     "execution_count": 20,
     "metadata": {},
     "output_type": "execute_result"
    },
    {
     "data": {
      "image/png": "[encoded data removed]",
      "text/plain": [
       "<Figure size 640x480 with 1 Axes>"
      ]
     },
     "metadata": {},
     "output_type": "display_data"
    }
   ],
   "source": [
    "plt.plot(r.history['accuracy'],label='Training Acc')\n",
    "plt.plot(r.history['val_accuracy'],label='Validation Acc')\n",
    "plt.title('Model Accuracy')\n",
    "plt.legend()"
   ]
  },
  {
   "cell_type": "code",
   "execution_count": 21,
   "id": "030d5ea5",
   "metadata": {
    "execution": {
     "iopub.execute_input": "2023-06-16T09:40:51.034445Z",
     "iopub.status.busy": "2023-06-16T09:40:51.034068Z",
     "iopub.status.idle": "2023-06-16T09:40:51.300291Z",
     "shell.execute_reply": "2023-06-16T09:40:51.299617Z"
    },
    "id": "zxGa-1VgNPrK",
    "papermill": {
     "duration": 0.631945,
     "end_time": "2023-06-16T09:40:51.301939",
     "exception": false,
     "start_time": "2023-06-16T09:40:50.669994",
     "status": "completed"
    },
    "tags": []
   },
   "outputs": [
    {
     "data": {
      "text/plain": [
       "<matplotlib.legend.Legend at 0x791aea1e9a20>"
      ]
     },
     "execution_count": 21,
     "metadata": {},
     "output_type": "execute_result"
    },
    {
     "data": {
      "image/png": "[encoded data removed]",
      "text/plain": [
       "<Figure size 640x480 with 1 Axes>"
      ]
     },
     "metadata": {},
     "output_type": "display_data"
    }
   ],
   "source": [
    "plt.plot(r.history['loss'],label='Training Loss')\n",
    "plt.plot(r.history['val_loss'],label='Validation Loss')\n",
    "plt.title('Model Loss')\n",
    "plt.legend()"
   ]
  },
  {
   "cell_type": "markdown",
   "id": "0c9c7849",
   "metadata": {
    "papermill": {
     "duration": 0.36533,
     "end_time": "2023-06-16T09:40:52.027212",
     "exception": false,
     "start_time": "2023-06-16T09:40:51.661882",
     "status": "completed"
    },
    "tags": []
   },
   "source": [
    "## True model accuracy - above includes padding"
   ]
  },
  {
   "cell_type": "code",
   "execution_count": 22,
   "id": "b6e64a27",
   "metadata": {
    "execution": {
     "iopub.execute_input": "2023-06-16T09:40:52.825245Z",
     "iopub.status.busy": "2023-06-16T09:40:52.824632Z",
     "iopub.status.idle": "2023-06-16T09:40:52.847137Z",
     "shell.execute_reply": "2023-06-16T09:40:52.846058Z"
    },
    "papermill": {
     "duration": 0.39096,
     "end_time": "2023-06-16T09:40:52.849358",
     "exception": false,
     "start_time": "2023-06-16T09:40:52.458398",
     "status": "completed"
    },
    "tags": []
   },
   "outputs": [],
   "source": [
    "train_lengths = []\n",
    "for sentence in x_train:\n",
    "  train_lengths.append(len(sentence))\n",
    "\n",
    "test_lengths = []\n",
    "for sentence in x_test:\n",
    "  test_lengths.append(len(sentence))"
   ]
  },
  {
   "cell_type": "code",
   "execution_count": 23,
   "id": "5a4e563e",
   "metadata": {
    "execution": {
     "iopub.execute_input": "2023-06-16T09:40:53.639916Z",
     "iopub.status.busy": "2023-06-16T09:40:53.639235Z",
     "iopub.status.idle": "2023-06-16T09:41:19.934017Z",
     "shell.execute_reply": "2023-06-16T09:41:19.932844Z"
    },
    "papermill": {
     "duration": 26.72869,
     "end_time": "2023-06-16T09:41:19.936582",
     "exception": false,
     "start_time": "2023-06-16T09:40:53.207892",
     "status": "completed"
    },
    "tags": []
   },
   "outputs": [
    {
     "name": "stdout",
     "output_type": "stream",
     "text": [
      "1255/1255 [==============================] - 25s 20ms/step\n"
     ]
    }
   ],
   "source": [
    "train_probs = model.predict(x_train_int) # N x T x K\n",
    "train_predictions = []\n",
    "for probs, length in zip(train_probs, train_lengths):\n",
    "  # probs is T x K\n",
    "  probs_ = probs[-length:]\n",
    "  preds = np.argmax(probs_, axis=1)\n",
    "  train_predictions.append(preds)\n",
    "\n",
    "# flatten\n",
    "flat_train_predictions = flatten(train_predictions)\n",
    "flat_train_targets = flatten(y_train_int_unpadded)"
   ]
  },
  {
   "cell_type": "code",
   "execution_count": 24,
   "id": "bf2d540c",
   "metadata": {
    "execution": {
     "iopub.execute_input": "2023-06-16T09:41:20.706697Z",
     "iopub.status.busy": "2023-06-16T09:41:20.706346Z",
     "iopub.status.idle": "2023-06-16T09:41:41.364679Z",
     "shell.execute_reply": "2023-06-16T09:41:41.363266Z"
    },
    "papermill": {
     "duration": 21.045254,
     "end_time": "2023-06-16T09:41:41.367178",
     "exception": false,
     "start_time": "2023-06-16T09:41:20.321924",
     "status": "completed"
    },
    "tags": []
   },
   "outputs": [
    {
     "name": "stdout",
     "output_type": "stream",
     "text": [
      "538/538 [==============================] - 11s 20ms/step\n"
     ]
    }
   ],
   "source": [
    "test_probs = model.predict(x_test_int) # N x T x K\n",
    "test_predictions = []\n",
    "for probs, length in zip(test_probs, test_lengths):\n",
    "  # probs is T x K\n",
    "  probs_ = probs[-length:]\n",
    "  preds = np.argmax(probs_, axis=1)\n",
    "  test_predictions.append(preds)\n",
    "\n",
    "# flatten\n",
    "flat_test_predictions = flatten(test_predictions)\n",
    "flat_test_targets = flatten(y_test_int_unpadded)"
   ]
  },
  {
   "cell_type": "code",
   "execution_count": 25,
   "id": "4785566b",
   "metadata": {
    "execution": {
     "iopub.execute_input": "2023-06-16T09:41:42.233514Z",
     "iopub.status.busy": "2023-06-16T09:41:42.232617Z",
     "iopub.status.idle": "2023-06-16T09:41:43.835416Z",
     "shell.execute_reply": "2023-06-16T09:41:43.833643Z"
    },
    "papermill": {
     "duration": 2.072267,
     "end_time": "2023-06-16T09:41:43.837759",
     "exception": false,
     "start_time": "2023-06-16T09:41:41.765492",
     "status": "completed"
    },
    "tags": []
   },
   "outputs": [
    {
     "name": "stdout",
     "output_type": "stream",
     "text": [
      "Train acc: 0.9908719741214874\n",
      "Test acc: 0.9730221209400824\n",
      "Train f1: 0.9028645709774673\n",
      "Test f1: 0.8494359043167059\n"
     ]
    }
   ],
   "source": [
    "from sklearn.metrics import accuracy_score, f1_score\n",
    "\n",
    "print(\"Train acc:\", accuracy_score(flat_train_targets, flat_train_predictions))\n",
    "print(\"Test acc:\", accuracy_score(flat_test_targets, flat_test_predictions))\n",
    "\n",
    "print(\"Train f1:\",\n",
    "      f1_score(flat_train_targets, flat_train_predictions, average='macro'))\n",
    "print(\"Test f1:\",\n",
    "      f1_score(flat_test_targets, flat_test_predictions, average='macro'))"
   ]
  },
  {
   "cell_type": "markdown",
   "id": "ac07b3dd",
   "metadata": {
    "papermill": {
     "duration": 0.395516,
     "end_time": "2023-06-16T09:41:44.629094",
     "exception": false,
     "start_time": "2023-06-16T09:41:44.233578",
     "status": "completed"
    },
    "tags": []
   },
   "source": [
    "# Sample Testing"
   ]
  },
  {
   "cell_type": "code",
   "execution_count": 26,
   "id": "fbe72ee5",
   "metadata": {
    "execution": {
     "iopub.execute_input": "2023-06-16T09:41:45.488053Z",
     "iopub.status.busy": "2023-06-16T09:41:45.486922Z",
     "iopub.status.idle": "2023-06-16T09:41:45.577138Z",
     "shell.execute_reply": "2023-06-16T09:41:45.576508Z"
    },
    "papermill": {
     "duration": 0.554579,
     "end_time": "2023-06-16T09:41:45.578828",
     "exception": false,
     "start_time": "2023-06-16T09:41:45.024249",
     "status": "completed"
    },
    "tags": []
   },
   "outputs": [
    {
     "name": "stdout",
     "output_type": "stream",
     "text": [
      "1/1 [==============================] - 0s 29ms/step\n",
      "[('hey', 'prt'), ('UNK', 'verb'), ('UNK', 'noun'), ('a', 'det'), ('data', 'noun'), ('science', 'noun'), ('beginner', 'noun')]\n",
      "[('I', 'pron'), ('like', 'verb'), ('eating', 'verb'), ('UNK', 'noun'), ('on', 'adp'), ('UNK', 'noun')]\n",
      "[('the', 'det'), ('world', 'noun'), ('of', 'adp'), ('UNK', 'noun'), ('is', 'verb'), ('wonderful', 'adj')]\n"
     ]
    }
   ],
   "source": [
    "texts = [\n",
    "    \"hey! i'm vismay, a data science beginner\",\n",
    "    \"I like eating sundaes on sunday\",\n",
    "    \"the world of AI is wonderful\"\n",
    "]\n",
    "\n",
    "texts_as_ints = word_tokenizer.texts_to_sequences(texts)\n",
    "texts_as_ints = pad_sequences(texts_as_ints, maxlen=T)\n",
    "\n",
    "probs = model.predict(np.asarray(texts_as_ints))\n",
    "outputs = []\n",
    "\n",
    "for i in range(len(texts_as_ints)):\n",
    "    sentOutput = []\n",
    "    for j, prob in enumerate(probs[i]):\n",
    "        tag = tag_tokenizer.index_word.get(np.argmax(prob), 'UNK')\n",
    "        id = texts_as_ints[i][j]\n",
    "        if id != 0:\n",
    "            sentOutput.append(( word_tokenizer.index_word[id], tag))\n",
    "    outputs.append(sentOutput)\n",
    "\n",
    "for output in outputs:\n",
    "    print(output)"
   ]
  },
  {
   "cell_type": "code",
   "execution_count": 27,
   "id": "f2b20f6e",
   "metadata": {
    "execution": {
     "iopub.execute_input": "2023-06-16T09:41:46.371062Z",
     "iopub.status.busy": "2023-06-16T09:41:46.370759Z",
     "iopub.status.idle": "2023-06-16T09:41:47.779018Z",
     "shell.execute_reply": "2023-06-16T09:41:47.777625Z"
    },
    "papermill": {
     "duration": 1.805595,
     "end_time": "2023-06-16T09:41:47.781145",
     "exception": true,
     "start_time": "2023-06-16T09:41:45.975550",
     "status": "failed"
    },
    "tags": []
   },
   "outputs": [
    {
     "name": "stdout",
     "output_type": "stream",
     "text": [
      "--2023-06-16 09:41:46--  https://lazyprogrammer.me/course_files/nlp/ner_train.pkl\r\n",
      "Resolving lazyprogrammer.me (lazyprogrammer.me)... 172.67.213.166, 104.21.23.210, 2606:4700:3030::ac43:d5a6, ...\r\n",
      "Connecting to lazyprogrammer.me (lazyprogrammer.me)|172.67.213.166|:443... connected.\r\n",
      "HTTP request sent, awaiting response... 403 Forbidden\r\n",
      "2023-06-16 09:41:46 ERROR 403: Forbidden.\r\n",
      "\r\n",
      "--2023-06-16 09:41:46--  https://lazyprogrammer.me/course_files/nlp/ner_test.pkl\r\n",
      "Resolving lazyprogrammer.me (lazyprogrammer.me)... 172.67.213.166, 104.21.23.210, 2606:4700:3031::6815:17d2, ...\r\n",
      "Connecting to lazyprogrammer.me (lazyprogrammer.me)|172.67.213.166|:443... connected.\r\n",
      "HTTP request sent, awaiting response... 403 Forbidden\r\n",
      "2023-06-16 09:41:47 ERROR 403: Forbidden.\r\n",
      "\r\n"
     ]
    },
    {
     "ename": "FileNotFoundError",
     "evalue": "[Errno 2] No such file or directory: 'ner_train.pkl'",
     "output_type": "error",
     "traceback": [
      "\u001b[0;31m---------------------------------------------------------------------------\u001b[0m",
      "\u001b[0;31mFileNotFoundError\u001b[0m                         Traceback (most recent call last)",
      "Cell \u001b[0;32mIn[27], line 6\u001b[0m\n\u001b[1;32m      2\u001b[0m get_ipython()\u001b[38;5;241m.\u001b[39msystem(\u001b[38;5;124m'\u001b[39m\u001b[38;5;124mwget -nc https://lazyprogrammer.me/course_files/nlp/ner_test.pkl\u001b[39m\u001b[38;5;124m'\u001b[39m)\n\u001b[1;32m      4\u001b[0m \u001b[38;5;28;01mimport\u001b[39;00m \u001b[38;5;21;01mpickle\u001b[39;00m\n\u001b[0;32m----> 6\u001b[0m \u001b[38;5;28;01mwith\u001b[39;00m \u001b[38;5;28;43mopen\u001b[39;49m\u001b[43m(\u001b[49m\u001b[38;5;124;43m'\u001b[39;49m\u001b[38;5;124;43mner_train.pkl\u001b[39;49m\u001b[38;5;124;43m'\u001b[39;49m\u001b[43m,\u001b[49m\u001b[43m \u001b[49m\u001b[38;5;124;43m'\u001b[39;49m\u001b[38;5;124;43mrb\u001b[39;49m\u001b[38;5;124;43m'\u001b[39;49m\u001b[43m)\u001b[49m \u001b[38;5;28;01mas\u001b[39;00m f:\n\u001b[1;32m      7\u001b[0m   corpus_train \u001b[38;5;241m=\u001b[39m pickle\u001b[38;5;241m.\u001b[39mload(f)\n\u001b[1;32m      9\u001b[0m \u001b[38;5;28;01mwith\u001b[39;00m \u001b[38;5;28mopen\u001b[39m(\u001b[38;5;124m'\u001b[39m\u001b[38;5;124mner_test.pkl\u001b[39m\u001b[38;5;124m'\u001b[39m, \u001b[38;5;124m'\u001b[39m\u001b[38;5;124mrb\u001b[39m\u001b[38;5;124m'\u001b[39m) \u001b[38;5;28;01mas\u001b[39;00m f:\n",
      "File \u001b[0;32m/opt/conda/lib/python3.10/site-packages/IPython/core/interactiveshell.py:284\u001b[0m, in \u001b[0;36m_modified_open\u001b[0;34m(file, *args, **kwargs)\u001b[0m\n\u001b[1;32m    277\u001b[0m \u001b[38;5;28;01mif\u001b[39;00m file \u001b[38;5;129;01min\u001b[39;00m {\u001b[38;5;241m0\u001b[39m, \u001b[38;5;241m1\u001b[39m, \u001b[38;5;241m2\u001b[39m}:\n\u001b[1;32m    278\u001b[0m     \u001b[38;5;28;01mraise\u001b[39;00m \u001b[38;5;167;01mValueError\u001b[39;00m(\n\u001b[1;32m    279\u001b[0m         \u001b[38;5;124mf\u001b[39m\u001b[38;5;124m\"\u001b[39m\u001b[38;5;124mIPython won\u001b[39m\u001b[38;5;124m'\u001b[39m\u001b[38;5;124mt let you open fd=\u001b[39m\u001b[38;5;132;01m{\u001b[39;00mfile\u001b[38;5;132;01m}\u001b[39;00m\u001b[38;5;124m by default \u001b[39m\u001b[38;5;124m\"\u001b[39m\n\u001b[1;32m    280\u001b[0m         \u001b[38;5;124m\"\u001b[39m\u001b[38;5;124mas it is likely to crash IPython. If you know what you are doing, \u001b[39m\u001b[38;5;124m\"\u001b[39m\n\u001b[1;32m    281\u001b[0m         \u001b[38;5;124m\"\u001b[39m\u001b[38;5;124myou can use builtins\u001b[39m\u001b[38;5;124m'\u001b[39m\u001b[38;5;124m open.\u001b[39m\u001b[38;5;124m\"\u001b[39m\n\u001b[1;32m    282\u001b[0m     )\n\u001b[0;32m--> 284\u001b[0m \u001b[38;5;28;01mreturn\u001b[39;00m \u001b[43mio_open\u001b[49m\u001b[43m(\u001b[49m\u001b[43mfile\u001b[49m\u001b[43m,\u001b[49m\u001b[43m \u001b[49m\u001b[38;5;241;43m*\u001b[39;49m\u001b[43margs\u001b[49m\u001b[43m,\u001b[49m\u001b[43m \u001b[49m\u001b[38;5;241;43m*\u001b[39;49m\u001b[38;5;241;43m*\u001b[39;49m\u001b[43mkwargs\u001b[49m\u001b[43m)\u001b[49m\n",
      "\u001b[0;31mFileNotFoundError\u001b[0m: [Errno 2] No such file or directory: 'ner_train.pkl'"
     ]
    }
   ],
   "source": [
    "!wget -nc https://lazyprogrammer.me/course_files/nlp/ner_train.pkl\n",
    "!wget -nc https://lazyprogrammer.me/course_files/nlp/ner_test.pkl\n",
    "\n",
    "import pickle\n",
    "    \n",
    "with open('ner_train.pkl', 'rb') as f:\n",
    "  corpus_train = pickle.load(f)\n",
    "\n",
    "with open('ner_test.pkl', 'rb') as f:\n",
    "  corpus_test = pickle.load(f)\n",
    "\n",
    "train_inputs = []\n",
    "train_targets = []\n",
    "\n",
    "for sentence_tag_pairs in corpus_train:\n",
    "  tokens = []\n",
    "  target = []\n",
    "  for token, tag in sentence_tag_pairs:\n",
    "    tokens.append(token)\n",
    "    target.append(tag)\n",
    "  train_inputs.append(tokens)\n",
    "  train_targets.append(target)"
   ]
  },
  {
   "cell_type": "code",
   "execution_count": null,
   "id": "5ccdbe75",
   "metadata": {
    "execution": {
     "iopub.execute_input": "2023-06-13T21:41:40.655752Z",
     "iopub.status.busy": "2023-06-13T21:41:40.655255Z",
     "iopub.status.idle": "2023-06-13T21:41:41.554560Z",
     "shell.execute_reply": "2023-06-13T21:41:41.553424Z",
     "shell.execute_reply.started": "2023-06-13T21:41:40.655704Z"
    },
    "papermill": {
     "duration": null,
     "end_time": null,
     "exception": null,
     "start_time": null,
     "status": "pending"
    },
    "tags": []
   },
   "outputs": [],
   "source": [
    "corpus_train"
   ]
  }
 ],
 "metadata": {
  "kernelspec": {
   "display_name": "Python 3",
   "language": "python",
   "name": "python3"
  },
  "language_info": {
   "codemirror_mode": {
    "name": "ipython",
    "version": 3
   },
   "file_extension": ".py",
   "mimetype": "text/x-python",
   "name": "python",
   "nbconvert_exporter": "python",
   "pygments_lexer": "ipython3",
   "version": "3.10.10"
  },
  "papermill": {
   "default_parameters": {},
   "duration": 721.98331,
   "end_time": "2023-06-16T09:41:51.813952",
   "environment_variables": {},
   "exception": true,
   "input_path": "__notebook__.ipynb",
   "output_path": "__notebook__.ipynb",
   "parameters": {},
   "start_time": "2023-06-16T09:29:49.830642",
   "version": "2.4.0"
  }
 },
 "nbformat": 4,
 "nbformat_minor": 5
}
